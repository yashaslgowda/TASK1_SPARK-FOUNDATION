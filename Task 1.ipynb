{
  "cells": [
    {
      "cell_type": "markdown",
      "metadata": {
        "id": "8vtYZP6L7S6W"
      },
      "source": [
        "# <span style=\"color: green;\">GRIP- THE SPARKS FOUNDATION </span>\n",
        "## Data Science & Business Analytics Internship\n",
        "## Linear Regression with Python Scikit Learn\n",
        "# NAME :- YASHAS L GOWDA"
      ]
    },
    {
      "cell_type": "markdown",
      "metadata": {
        "id": "lh2XkIM77S6a"
      },
      "source": [
        "### -------------------------------------------------------------------------------------------------------------------------------------------------------------------\n",
        "# Task-1 : Prediction using Supervised ML\n",
        "### Predict the percentage of a student based on the no. of study hours. This is a simple linear regression task as it involves just 2 variables."
      ]
    },
    {
      "cell_type": "markdown",
      "metadata": {
        "id": "QeMR-Xyq7S6c"
      },
      "source": [
        "##### 1. Import the required libraires"
      ]
    },
    {
      "cell_type": "code",
      "execution_count": null,
      "metadata": {
        "id": "rOp5uU7o7S6d"
      },
      "outputs": [],
      "source": [
        "import pandas as pd\n",
        "import numpy as np  \n",
        "import matplotlib.pyplot as plt  \n",
        "from sklearn import metrics  \n",
        "from sklearn.model_selection import train_test_split\n",
        "from sklearn.linear_model import LinearRegression "
      ]
    },
    {
      "cell_type": "markdown",
      "metadata": {
        "id": "wYhrqjaX7S6f"
      },
      "source": [
        "##### 2. Importing Data"
      ]
    },
    {
      "cell_type": "code",
      "execution_count": null,
      "metadata": {
        "id": "Md8QLDqw7S6g",
        "outputId": "509f5c33-17f8-44ca-b795-14d17f32d10e"
      },
      "outputs": [
        {
          "name": "stdout",
          "output_type": "stream",
          "text": [
            "Data imported...👍\n"
          ]
        }
      ],
      "source": [
        "url = \"http://bit.ly/w-data\"\n",
        "student_data = pd.read_csv(url)\n",
        "print(\"Data imported...👍\")"
      ]
    },
    {
      "cell_type": "code",
      "execution_count": null,
      "metadata": {
        "id": "eI-fhYdy7S6j",
        "outputId": "c76eb567-42d7-4fde-c0e6-3f4554cb2616"
      },
      "outputs": [
        {
          "data": {
            "text/html": [
              "<div>\n",
              "<style scoped>\n",
              "    .dataframe tbody tr th:only-of-type {\n",
              "        vertical-align: middle;\n",
              "    }\n",
              "\n",
              "    .dataframe tbody tr th {\n",
              "        vertical-align: top;\n",
              "    }\n",
              "\n",
              "    .dataframe thead th {\n",
              "        text-align: right;\n",
              "    }\n",
              "</style>\n",
              "<table border=\"1\" class=\"dataframe\">\n",
              "  <thead>\n",
              "    <tr style=\"text-align: right;\">\n",
              "      <th></th>\n",
              "      <th>Hours</th>\n",
              "      <th>Scores</th>\n",
              "    </tr>\n",
              "  </thead>\n",
              "  <tbody>\n",
              "    <tr>\n",
              "      <th>0</th>\n",
              "      <td>2.5</td>\n",
              "      <td>21</td>\n",
              "    </tr>\n",
              "    <tr>\n",
              "      <th>1</th>\n",
              "      <td>5.1</td>\n",
              "      <td>47</td>\n",
              "    </tr>\n",
              "    <tr>\n",
              "      <th>2</th>\n",
              "      <td>3.2</td>\n",
              "      <td>27</td>\n",
              "    </tr>\n",
              "    <tr>\n",
              "      <th>3</th>\n",
              "      <td>8.5</td>\n",
              "      <td>75</td>\n",
              "    </tr>\n",
              "    <tr>\n",
              "      <th>4</th>\n",
              "      <td>3.5</td>\n",
              "      <td>30</td>\n",
              "    </tr>\n",
              "  </tbody>\n",
              "</table>\n",
              "</div>"
            ],
            "text/plain": [
              "   Hours  Scores\n",
              "0    2.5      21\n",
              "1    5.1      47\n",
              "2    3.2      27\n",
              "3    8.5      75\n",
              "4    3.5      30"
            ]
          },
          "execution_count": 3,
          "metadata": {},
          "output_type": "execute_result"
        }
      ],
      "source": [
        "student_data.head()  # seeing the head of data"
      ]
    },
    {
      "cell_type": "markdown",
      "metadata": {
        "id": "RuZcixDy7S6k"
      },
      "source": [
        "##### 3. Data visualization "
      ]
    },
    {
      "cell_type": "markdown",
      "metadata": {
        "id": "u2L0lNFD7S6l"
      },
      "source": [
        "##### 3.1 Plotting the distribution of hours and scores on scatter plot"
      ]
    },
    {
      "cell_type": "code",
      "execution_count": null,
      "metadata": {
        "id": "TSps6z7m7S6m",
        "outputId": "f203869b-0652-4650-bfb6-ee3661be921c"
      },
      "outputs": [
        {
          "data": {
            "image/png": "[encoded data removed]",
            "text/plain": [
              "<Figure size 432x288 with 1 Axes>"
            ]
          },
          "metadata": {
            "needs_background": "light"
          },
          "output_type": "display_data"
        }
      ],
      "source": [
        "plt.scatter(x=\"Hours\",y=\"Scores\",data=student_data)  \n",
        "plt.title(\"Hours vs Percentage\")  \n",
        "plt.xlabel(\"Hours Studied\")  \n",
        "plt.ylabel(\"Percentage Score\")  \n",
        "plt.show()"
      ]
    },
    {
      "cell_type": "markdown",
      "metadata": {
        "id": "ED0P2rmD7S6n"
      },
      "source": [
        "##### 3.2 Univariate visualization"
      ]
    },
    {
      "cell_type": "code",
      "execution_count": null,
      "metadata": {
        "id": "EnKbN3IE7S6n",
        "outputId": "9a0e29b8-f600-4c18-d7b9-62ae937bba72"
      },
      "outputs": [
        {
          "data": {
            "image/png": "[encoded data removed]",
            "text/plain": [
              "<Figure size 576x216 with 2 Axes>"
            ]
          },
          "metadata": {
            "needs_background": "light"
          },
          "output_type": "display_data"
        }
      ],
      "source": [
        "student_data.hist(grid=False,figsize=(8,3))\n",
        "plt.show()"
      ]
    },
    {
      "cell_type": "markdown",
      "metadata": {
        "id": "3FlIAvrb7S6o"
      },
      "source": [
        "##### 4. Data preperation"
      ]
    },
    {
      "cell_type": "code",
      "execution_count": null,
      "metadata": {
        "id": "EqcKu8p77S6p"
      },
      "outputs": [],
      "source": [
        "X = student_data.drop(columns=[\"Scores\"]) \n",
        "y = student_data[\"Scores\"]"
      ]
    },
    {
      "cell_type": "code",
      "execution_count": null,
      "metadata": {
        "id": "ZsG8kN_T7S6q",
        "outputId": "5fc3dc8f-679f-4c70-aa75-6f91a4cb1dac"
      },
      "outputs": [
        {
          "name": "stdout",
          "output_type": "stream",
          "text": [
            "--> training data points 20 and testing data points 5\n"
          ]
        }
      ],
      "source": [
        "X_train, X_test, y_train, y_test = train_test_split(X, y, test_size=0.2, random_state=0)\n",
        "print(f\"--> training data points {X_train.shape[0]} and testing data points {X_test.shape[0]}\")"
      ]
    },
    {
      "cell_type": "markdown",
      "metadata": {
        "id": "WBMMxmvE7S6r"
      },
      "source": [
        "##### 5.Training the Algorithm"
      ]
    },
    {
      "cell_type": "code",
      "execution_count": null,
      "metadata": {
        "id": "GQhkYY4b7S6r",
        "outputId": "26b3a6f6-0b88-40c3-db99-76b8e5ac4b54"
      },
      "outputs": [
        {
          "name": "stdout",
          "output_type": "stream",
          "text": [
            "Training is Completed 👍\n"
          ]
        }
      ],
      "source": [
        "regressor = LinearRegression()  \n",
        "regressor.fit(X_train, y_train) \n",
        "print(\"Training is Completed 👍\")"
      ]
    },
    {
      "cell_type": "markdown",
      "metadata": {
        "id": "cAurBhLI7S6t"
      },
      "source": [
        "##### 5.1 Ploting regression line "
      ]
    },
    {
      "cell_type": "code",
      "execution_count": null,
      "metadata": {
        "id": "NAgKGXxZ7S6t",
        "outputId": "ab250391-af1e-4a9e-ee3a-ec5f8c7adc66"
      },
      "outputs": [
        {
          "name": "stdout",
          "output_type": "stream",
          "text": [
            "--> Equation of line y = 9.91*X+2.02\n"
          ]
        }
      ],
      "source": [
        "print(f\"--> Equation of line y = {np.round(regressor.coef_[0],2)}*X+{np.round(regressor.intercept_,2)}\")"
      ]
    },
    {
      "cell_type": "code",
      "execution_count": null,
      "metadata": {
        "id": "3FC8MfEN7S6v",
        "outputId": "d8da76b7-af7e-47b4-9216-a3f8de9c8b41"
      },
      "outputs": [
        {
          "data": {
            "image/png": "[encoded data removed]",
            "text/plain": [
              "<Figure size 432x288 with 1 Axes>"
            ]
          },
          "metadata": {
            "needs_background": "light"
          },
          "output_type": "display_data"
        }
      ],
      "source": [
        "plt.scatter(X_train,y_train)\n",
        "plt.xlabel(\"Hours\")\n",
        "plt.ylabel(\"Scores\")\n",
        "plt.plot(X_train, regressor.predict(X_train),\"m\")\n",
        "plt.show()"
      ]
    },
    {
      "cell_type": "markdown",
      "metadata": {
        "id": "uvI58QSX7S6w"
      },
      "source": [
        "##### 6. Making Predictions on testing data"
      ]
    },
    {
      "cell_type": "code",
      "execution_count": null,
      "metadata": {
        "id": "4BuB3Xdq7S6w",
        "outputId": "4ab4ae8a-9aca-4216-fda3-67bf2c8b3a99"
      },
      "outputs": [
        {
          "name": "stdout",
          "output_type": "stream",
          "text": [
            "    Hours\n",
            "5     1.5\n",
            "2     3.2\n",
            "19    7.4\n",
            "16    2.5\n",
            "11    5.9\n"
          ]
        }
      ],
      "source": [
        "print(X_test) #  test data"
      ]
    },
    {
      "cell_type": "code",
      "execution_count": null,
      "metadata": {
        "id": "Ul-GOHIB7S6y"
      },
      "outputs": [],
      "source": [
        "y_pred = regressor.predict(X_test)"
      ]
    },
    {
      "cell_type": "code",
      "execution_count": null,
      "metadata": {
        "id": "XtdFe1pw7S6z",
        "outputId": "246d1c0d-060c-46f4-8296-79211afa6202"
      },
      "outputs": [
        {
          "name": "stdout",
          "output_type": "stream",
          "text": [
            "Comparing actual data and predicted data\n"
          ]
        },
        {
          "data": {
            "text/html": [
              "<div>\n",
              "<style scoped>\n",
              "    .dataframe tbody tr th:only-of-type {\n",
              "        vertical-align: middle;\n",
              "    }\n",
              "\n",
              "    .dataframe tbody tr th {\n",
              "        vertical-align: top;\n",
              "    }\n",
              "\n",
              "    .dataframe thead th {\n",
              "        text-align: right;\n",
              "    }\n",
              "</style>\n",
              "<table border=\"1\" class=\"dataframe\">\n",
              "  <thead>\n",
              "    <tr style=\"text-align: right;\">\n",
              "      <th></th>\n",
              "      <th>Actual</th>\n",
              "      <th>Predicted</th>\n",
              "    </tr>\n",
              "  </thead>\n",
              "  <tbody>\n",
              "    <tr>\n",
              "      <th>5</th>\n",
              "      <td>20</td>\n",
              "      <td>16.884145</td>\n",
              "    </tr>\n",
              "    <tr>\n",
              "      <th>2</th>\n",
              "      <td>27</td>\n",
              "      <td>33.732261</td>\n",
              "    </tr>\n",
              "    <tr>\n",
              "      <th>19</th>\n",
              "      <td>69</td>\n",
              "      <td>75.357018</td>\n",
              "    </tr>\n",
              "    <tr>\n",
              "      <th>16</th>\n",
              "      <td>30</td>\n",
              "      <td>26.794801</td>\n",
              "    </tr>\n",
              "    <tr>\n",
              "      <th>11</th>\n",
              "      <td>62</td>\n",
              "      <td>60.491033</td>\n",
              "    </tr>\n",
              "  </tbody>\n",
              "</table>\n",
              "</div>"
            ],
            "text/plain": [
              "    Actual  Predicted\n",
              "5       20  16.884145\n",
              "2       27  33.732261\n",
              "19      69  75.357018\n",
              "16      30  26.794801\n",
              "11      62  60.491033"
            ]
          },
          "execution_count": 13,
          "metadata": {},
          "output_type": "execute_result"
        }
      ],
      "source": [
        "print(\"Comparing actual data and predicted data\")\n",
        "df = pd.DataFrame({\"Actual\": y_test, \"Predicted\": y_pred})  \n",
        "df "
      ]
    },
    {
      "cell_type": "markdown",
      "metadata": {
        "id": "93K2Qmr37S60"
      },
      "source": [
        "##### 6.1 Ploting line on testing data"
      ]
    },
    {
      "cell_type": "code",
      "execution_count": null,
      "metadata": {
        "id": "2x1lkDFt7S60",
        "outputId": "8bc5e84d-7be2-4a9b-e002-8df6e72c18f8"
      },
      "outputs": [
        {
          "data": {
            "image/png": "[encoded data removed]",
            "text/plain": [
              "<Figure size 432x288 with 1 Axes>"
            ]
          },
          "metadata": {
            "needs_background": "light"
          },
          "output_type": "display_data"
        }
      ],
      "source": [
        "plt.scatter(X_test,y_test)\n",
        "plt.xlabel(\"Hours\")\n",
        "plt.ylabel(\"Scores\")\n",
        "plt.plot(X_test, regressor.predict(X_test),\"g\")\n",
        "plt.show()"
      ]
    },
    {
      "cell_type": "markdown",
      "metadata": {
        "id": "azcwe6zv7S61"
      },
      "source": [
        "##### 7. Testing and finding prediction for 9.25 hours study/ day"
      ]
    },
    {
      "cell_type": "code",
      "execution_count": null,
      "metadata": {
        "id": "RJq6rNFF7S61",
        "outputId": "50d85e5f-cbf3-44a2-85df-e05a1d53e598"
      },
      "outputs": [
        {
          "name": "stdout",
          "output_type": "stream",
          "text": [
            "No of Hours = 9.25\n",
            "Predicted Score = 93.69173248737538\n"
          ]
        }
      ],
      "source": [
        "hours = 9.25\n",
        "own_pred = regressor.predict([[hours]])\n",
        "print(f\"No of Hours = {hours}\")\n",
        "print(f\"Predicted Score = {own_pred[0]}\")"
      ]
    },
    {
      "cell_type": "markdown",
      "metadata": {
        "id": "eXu1jQlo7S62"
      },
      "source": [
        "##### 8. Evaluating the model"
      ]
    },
    {
      "cell_type": "code",
      "execution_count": null,
      "metadata": {
        "id": "i7L0R2-a7S63",
        "outputId": "f40affe8-f83b-4ba0-afb2-c056a92c0c28"
      },
      "outputs": [
        {
          "name": "stdout",
          "output_type": "stream",
          "text": [
            "Mean Absolute Error: 4.183859899002975\n",
            "Mean squared Error: 21.5987693072174\n",
            "r2 score: 0.9454906892105356\n"
          ]
        }
      ],
      "source": [
        "print(\"Mean Absolute Error:\", metrics.mean_absolute_error(y_test, y_pred)) \n",
        "print(\"Mean squared Error:\", metrics.mean_squared_error(y_test, y_pred)) \n",
        "print(\"r2 score:\", metrics.r2_score(y_test, y_pred)) "
      ]
    },
    {
      "cell_type": "markdown",
      "metadata": {
        "id": "jnARogWg7S64"
      },
      "source": [
        "# Thank you for this opportunity\n",
        "# THE SPARK FOUNDATION "
      ]
    },
    {
      "cell_type": "code",
      "execution_count": null,
      "metadata": {
        "id": "b4Kthub27S64"
      },
      "outputs": [],
      "source": []
    }
  ],
  "metadata": {
    "kernelspec": {
      "display_name": "Python 3",
      "language": "python",
      "name": "python3"
    },
    "language_info": {
      "codemirror_mode": {
        "name": "ipython",
        "version": 3
      },
      "file_extension": ".py",
      "mimetype": "text/x-python",
      "name": "python",
      "nbconvert_exporter": "python",
      "pygments_lexer": "ipython3",
      "version": "3.8.5"
    },
    "colab": {
      "provenance": [],
      "collapsed_sections": []
    }
  },
  "nbformat": 4,
  "nbformat_minor": 0
}